{
 "cells": [
  {
   "cell_type": "code",
   "execution_count": 13,
   "id": "a083d606",
   "metadata": {},
   "outputs": [
    {
     "data": {
      "text/plain": [
       "'A Python library is a comprehensive set of functions and methods designed to enable users to accomplish diverse tasks without the need to develop the functionality from the ground up. Python libraries are instrumental in saving time and effort, as they offer pre-written code that addresses common challenges or tasks. By tapping into these libraries, users can easily access proven solutions, streamlining the development process and enhancing overall efficiency.'"
      ]
     },
     "execution_count": 13,
     "metadata": {},
     "output_type": "execute_result"
    }
   ],
   "source": [
    "#1 q\n",
    "'''A Python library is a comprehensive set of functions and methods designed to enable users to accomplish diverse tasks without the need to develop the functionality from the ground up. Python libraries are instrumental in saving time and effort, as they offer pre-written code that addresses common challenges or tasks. By tapping into these libraries, users can easily access proven solutions, streamlining the development process and enhancing overall efficiency.'''"
   ]
  },
  {
   "cell_type": "code",
   "execution_count": 15,
   "id": "efd53661",
   "metadata": {},
   "outputs": [
    {
     "data": {
      "text/plain": [
       "'The primary distinctions between a NumPy array and a list include the following:\\n\\nHomogeneity and Size:\\n\\nNumPy arrays are homogeneous, meaning all elements must be of the same data type. Additionally, the size of a NumPy array is fixed upon creation.\\nLists, on the other hand, can contain elements of different data types, and their size can be dynamically adjusted during runtime.\\nPerformance:\\n\\nNumPy arrays are designed for numerical operations and provide better performance, especially for large datasets, compared to lists. This is due to optimized implementations of array operations that take advantage of low-level optimizations.\\nLists may not perform as well as NumPy arrays for numerical computations, particularly when dealing with extensive datasets.\\nVectorized Operations:\\n\\nNumPy arrays support vectorized operations, allowing mathematical operations to be applied element-wise without the need for explicit looping. This capability significantly enhances the efficiency of numerical computations.\\nLists require explicit iteration for similar operations, making them less efficient for mathematical computations involving large datasets.\\nIn summary, while NumPy arrays are homogeneous, have a fixed size, and offer optimized performance for numerical operations, lists are more flexible in terms of data types and size. The choice between NumPy arrays and lists depends on the specific requirements of the task at hand, with NumPy arrays being particularly well-suited for numerical computations and scientific computing.'"
      ]
     },
     "execution_count": 15,
     "metadata": {},
     "output_type": "execute_result"
    }
   ],
   "source": [
    "# 2Q\n",
    "\n",
    "'''The primary distinctions between a NumPy array and a list include the following:\n",
    "\n",
    "Homogeneity and Size:\n",
    "\n",
    "NumPy arrays are homogeneous, meaning all elements must be of the same data type. Additionally, the size of a NumPy array is fixed upon creation.\n",
    "Lists, on the other hand, can contain elements of different data types, and their size can be dynamically adjusted during runtime.\n",
    "Performance:\n",
    "\n",
    "NumPy arrays are designed for numerical operations and provide better performance, especially for large datasets, compared to lists. This is due to optimized implementations of array operations that take advantage of low-level optimizations.\n",
    "Lists may not perform as well as NumPy arrays for numerical computations, particularly when dealing with extensive datasets.\n",
    "Vectorized Operations:\n",
    "\n",
    "NumPy arrays support vectorized operations, allowing mathematical operations to be applied element-wise without the need for explicit looping. This capability significantly enhances the efficiency of numerical computations.\n",
    "Lists require explicit iteration for similar operations, making them less efficient for mathematical computations involving large datasets.\n",
    "In summary, while NumPy arrays are homogeneous, have a fixed size, and offer optimized performance for numerical operations, lists are more flexible in terms of data types and size. The choice between NumPy arrays and lists depends on the specific requirements of the task at hand, with NumPy arrays being particularly well-suited for numerical computations and scientific computing.'''"
   ]
  },
  {
   "cell_type": "code",
   "execution_count": 16,
   "id": "9e41c755",
   "metadata": {},
   "outputs": [
    {
     "data": {
      "text/plain": [
       "'The shape, size, and dimension of the given array are:\\nShape: (3, 4) Size: 12 (total number of elements) Dimension: 2 (2D array)'"
      ]
     },
     "execution_count": 16,
     "metadata": {},
     "output_type": "execute_result"
    }
   ],
   "source": [
    "# 3 Q\n",
    "'''The shape, size, and dimension of the given array are:\n",
    "Shape: (3, 4) Size: 12 (total number of elements) Dimension: 2 (2D array)'''"
   ]
  },
  {
   "cell_type": "code",
   "execution_count": 1,
   "id": "cbeb7e4a",
   "metadata": {},
   "outputs": [
    {
     "name": "stdout",
     "output_type": "stream",
     "text": [
      "[1, 2, 3, 4]\n"
     ]
    }
   ],
   "source": [
    "#4th q\n",
    "array = [[1, 2, 3, 4], [5, 6, 7, 8], [9, 10, 11, 12]]\n",
    "first_row = array[0]\n",
    "print(first_row)"
   ]
  },
  {
   "cell_type": "code",
   "execution_count": 2,
   "id": "7e72aa44",
   "metadata": {},
   "outputs": [
    {
     "name": "stdout",
     "output_type": "stream",
     "text": [
      "12\n"
     ]
    }
   ],
   "source": [
    "# 5\n",
    "array = [[1, 2, 3, 4], [5, 6, 7, 8], [9, 10, 11, 12]]\n",
    "element = array[2][3]\n",
    "print(element)"
   ]
  },
  {
   "cell_type": "code",
   "execution_count": 3,
   "id": "e6938989",
   "metadata": {},
   "outputs": [
    {
     "name": "stdout",
     "output_type": "stream",
     "text": [
      "[[ 2  4]\n",
      " [ 6  8]\n",
      " [10 12]]\n"
     ]
    }
   ],
   "source": [
    "# 6\n",
    "import numpy as np\n",
    "\n",
    "array = np.array([[1, 2, 3, 4], [5, 6, 7, 8], [9, 10, 11, 12]])\n",
    "odd_elements = array[:, 1::2]\n",
    "print(odd_elements)"
   ]
  },
  {
   "cell_type": "code",
   "execution_count": 4,
   "id": "10639e91",
   "metadata": {},
   "outputs": [
    {
     "name": "stdout",
     "output_type": "stream",
     "text": [
      "[[0.67959213 0.68111114 0.69278262]\n",
      " [0.58090319 0.96862822 0.11122946]\n",
      " [0.65281625 0.56982352 0.42286769]]\n"
     ]
    }
   ],
   "source": [
    "# 7\n",
    "import numpy as np\n",
    "\n",
    "random_matrix = np.random.rand(3, 3)\n",
    "print(random_matrix)"
   ]
  },
  {
   "cell_type": "code",
   "execution_count": 17,
   "id": "dfa46959",
   "metadata": {},
   "outputs": [
    {
     "data": {
      "text/plain": [
       "'np.random.rand generates random numbers from a uniform distribution between 0 and 1, while np.random.randn generates random numbers from a standard normal distribution (mean 0 and standard deviation 1).'"
      ]
     },
     "execution_count": 17,
     "metadata": {},
     "output_type": "execute_result"
    }
   ],
   "source": [
    "# 8th question\n",
    "'''np.random.rand generates random numbers from a uniform distribution between 0 and 1, while np.random.randn generates random numbers from a standard normal distribution (mean 0 and standard deviation 1).'''"
   ]
  },
  {
   "cell_type": "code",
   "execution_count": 5,
   "id": "2b33b5cb",
   "metadata": {},
   "outputs": [
    {
     "name": "stdout",
     "output_type": "stream",
     "text": [
      "(1, 3, 4)\n"
     ]
    }
   ],
   "source": [
    "# 9\n",
    "array = np.array([[1, 2, 3, 4], [5, 6, 7, 8], [9, 10, 11, 12]])\n",
    "expanded_array = np.expand_dims(array, axis=0)\n",
    "print(expanded_array.shape)"
   ]
  },
  {
   "cell_type": "code",
   "execution_count": 6,
   "id": "01bf6752",
   "metadata": {},
   "outputs": [
    {
     "name": "stdout",
     "output_type": "stream",
     "text": [
      "[[ 1  5  9]\n",
      " [ 2  6 10]\n",
      " [ 3  7 11]\n",
      " [ 4  8 12]]\n"
     ]
    }
   ],
   "source": [
    "#10\n",
    "array = np.array([[1, 2, 3, 4], [5, 6, 7, 8], [9, 10, 11, 12]])\n",
    "transposed_array = np.transpose(array)\n",
    "print(transposed_array)"
   ]
  },
  {
   "cell_type": "code",
   "execution_count": 7,
   "id": "9b56a73e",
   "metadata": {},
   "outputs": [
    {
     "name": "stdout",
     "output_type": "stream",
     "text": [
      "Index-wise multiplication:\n",
      " [[ 9 16 21]\n",
      " [24 25 24]\n",
      " [21 16  9]]\n",
      "Matrix multiplication:\n",
      " [[ 30  24  18]\n",
      " [ 84  69  54]\n",
      " [138 114  90]]\n",
      "Matrix addition:\n",
      " [[10 10 10]\n",
      " [10 10 10]\n",
      " [10 10 10]]\n",
      "Matrix subtraction:\n",
      " [[-8 -6 -4]\n",
      " [-2  0  2]\n",
      " [ 4  6  8]]\n",
      "Matrix division:\n",
      " [[9.         4.         2.33333333]\n",
      " [1.5        1.         0.66666667]\n",
      " [0.42857143 0.25       0.11111111]]\n"
     ]
    }
   ],
   "source": [
    "#11\n",
    "import numpy as np\n",
    "\n",
    "A = np.array([[1, 2, 3], [4, 5, 6], [7, 8, 9]])\n",
    "B = np.array([[9, 8, 7], [6, 5, 4], [3, 2, 1]])\n",
    "\n",
    "# Index-wise multiplication\n",
    "index_wise_mul = A * B\n",
    "\n",
    "# Matrix multiplication\n",
    "matrix_mul = np.matmul(A, B)\n",
    "\n",
    "# Add both matrices\n",
    "matrix_addition = A + B\n",
    "\n",
    "# Subtract matrix B from A\n",
    "matrix_subtraction = A - B\n",
    "\n",
    "# Divide matrix B by A\n",
    "matrix_division = B / A\n",
    "\n",
    "print(\"Index-wise multiplication:\\n\", index_wise_mul)\n",
    "print(\"Matrix multiplication:\\n\", matrix_mul)\n",
    "print(\"Matrix addition:\\n\", matrix_addition)\n",
    "print(\"Matrix subtraction:\\n\", matrix_subtraction)\n",
    "print(\"Matrix division:\\n\", matrix_division)"
   ]
  },
  {
   "cell_type": "code",
   "execution_count": 18,
   "id": "07131c9f",
   "metadata": {},
   "outputs": [],
   "source": [
    "# 12 \n",
    "# The function in NumPy used to swap the byte order of an array is np.ndarray.byteswap()"
   ]
  },
  {
   "cell_type": "code",
   "execution_count": 19,
   "id": "7a027951",
   "metadata": {},
   "outputs": [
    {
     "data": {
      "text/plain": [
       "'The np.linalg.inv function is used to calculate the inverse of a square matrix. It is significant in linear algebra for solving systems of linear equations and other matrix operations.'"
      ]
     },
     "execution_count": 19,
     "metadata": {},
     "output_type": "execute_result"
    }
   ],
   "source": [
    "# 13\n",
    "'''The np.linalg.inv function is used to calculate the inverse of a square matrix. It is significant in linear algebra for solving systems of linear equations and other matrix operations.'''"
   ]
  },
  {
   "cell_type": "code",
   "execution_count": 8,
   "id": "139cd556",
   "metadata": {},
   "outputs": [],
   "source": [
    "# 14 \n",
    "# reshaped_array = np.reshape(original_array, new_shape)"
   ]
  },
  {
   "cell_type": "markdown",
   "id": "3305bd68",
   "metadata": {},
   "source": [
    "# 15 q"
   ]
  },
  {
   "cell_type": "code",
   "execution_count": 14,
   "id": "cb6df60b",
   "metadata": {},
   "outputs": [
    {
     "data": {
      "text/plain": [
       "'Broadcasting in NumPy refers to the ability to perform arithmetic operations on arrays of different shapes. NumPy automatically broadcasts arrays to make them compatible for element-wise operations, allowing you to perform operations between arrays of different shapes without explicitly adding dimensions.'"
      ]
     },
     "execution_count": 14,
     "metadata": {},
     "output_type": "execute_result"
    }
   ],
   "source": [
    "'''Broadcasting in NumPy refers to the ability to perform arithmetic operations on arrays of different shapes. NumPy automatically broadcasts arrays to make them compatible for element-wise operations, allowing you to perform operations between arrays of different shapes without explicitly adding dimensions.'''"
   ]
  },
  {
   "cell_type": "code",
   "execution_count": null,
   "id": "716cc0ab",
   "metadata": {},
   "outputs": [],
   "source": []
  }
 ],
 "metadata": {
  "kernelspec": {
   "display_name": "Python 3 (ipykernel)",
   "language": "python",
   "name": "python3"
  },
  "language_info": {
   "codemirror_mode": {
    "name": "ipython",
    "version": 3
   },
   "file_extension": ".py",
   "mimetype": "text/x-python",
   "name": "python",
   "nbconvert_exporter": "python",
   "pygments_lexer": "ipython3",
   "version": "3.10.9"
  }
 },
 "nbformat": 4,
 "nbformat_minor": 5
}
